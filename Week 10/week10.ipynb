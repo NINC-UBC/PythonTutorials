{
 "cells": [
  {
   "cell_type": "code",
   "execution_count": 1,
   "metadata": {
    "collapsed": true
   },
   "outputs": [],
   "source": [
    "%matplotlib inline\n",
    "import numpy as np\n",
    "import matplotlib.pyplot as plt"
   ]
  },
  {
   "cell_type": "code",
   "execution_count": 2,
   "metadata": {
    "collapsed": false
   },
   "outputs": [
    {
     "data": {
      "text/plain": [
       "2"
      ]
     },
     "execution_count": 2,
     "metadata": {},
     "output_type": "execute_result"
    }
   ],
   "source": [
    "# This week we review the last several weeks.\n",
    "\n",
    "# We have introduced many ideas: variables, assignment, evaluation.  We can directly type commands and evaluate\n",
    "# them.  For exmple simple arithmetic: \n",
    "\n",
    "\n",
    "1+1 "
   ]
  },
  {
   "cell_type": "code",
   "execution_count": 3,
   "metadata": {
    "collapsed": false
   },
   "outputs": [],
   "source": [
    "# We normally create variable by assignment using the = operator\n",
    "# Expressions like:\n",
    "\n",
    "a = 'hello'\n",
    "f = np.log10(100)\n",
    "g =2^10 - 1\n",
    "h =['1','why',2,'because','!']\n",
    "# Variables can have different types.  What others have we seen besides numerical and string?\n",
    "\n",
    "# Are f & g the same type?  How can you find out?\n",
    "\n",
    "#What about h?  What type is it?\n",
    "\n",
    "#How do you get the individual items in h?\n"
   ]
  },
  {
   "cell_type": "code",
   "execution_count": 6,
   "metadata": {
    "collapsed": false
   },
   "outputs": [
    {
     "name": "stdout",
     "output_type": "stream",
     "text": [
      "[1 3 5 7 9]\n"
     ]
    }
   ],
   "source": [
    "# We introduced numpy arrays.  Arrays are very important data structures and used to represent most data.  \n",
    "# Although they can have lots of dimensions it is convenient to think of\n",
    "\n",
    "# 1d array -> time course of a signal\n",
    "# 2d array -> an image\n",
    "# 3d array -> a volume, ie stack of images\n",
    "\n",
    "# The command for generating a array consisting of an ordered list of \n",
    "# integers with a start and an end and given increment (or decrement) is\n",
    "# used a lot.  Write a command to store the sequence  1 3 5 7 9\n",
    "# and store the result in variable called a\n",
    "\n"
   ]
  },
  {
   "cell_type": "code",
   "execution_count": 16,
   "metadata": {
    "collapsed": false
   },
   "outputs": [
    {
     "name": "stdout",
     "output_type": "stream",
     "text": [
      "[[1 2 3]\n",
      " [4 5 6]\n",
      " [7 8 9]]\n",
      "[[ 0.  0.  0.  0.]\n",
      " [ 0.  0.  0.  0.]\n",
      " [ 0.  0.  0.  0.]]\n",
      "[[ 1.  1.  1.]\n",
      " [ 1.  1.  1.]\n",
      " [ 1.  1.  1.]\n",
      " [ 1.  1.  1.]]\n",
      "[[ 1.  1.  1.]\n",
      " [ 1.  1.  1.]\n",
      " [ 1.  1.  1.]\n",
      " [ 1.  1.  1.]]\n"
     ]
    }
   ],
   "source": [
    "#Arrays can be created in many ways.  We can type them in directly.  For example:\n",
    "\n",
    "a=np.array([ [1, 2, 3], [4, 5, 6] , [7, 8, 9] ])\n",
    "print(a)\n",
    "\n",
    "# makes a 2d matrix with 3 rows and 3 columns.\n",
    "\n",
    "# Numpy has many built in functions for creating arrays.\n",
    "\n",
    "# for example use numpy commands zeros and ones to create a 3x4 array full of zeros and a 4x3 array full of ones.\n",
    "#Store the results in variables called a & b\n",
    "\n",
    "\n",
    "\n",
    "#Bonus: numpy performs arithmetic element by element on arrays.  Write a command to add the transpose of a to b\n",
    "\n"
   ]
  },
  {
   "cell_type": "code",
   "execution_count": 4,
   "metadata": {
    "collapsed": false
   },
   "outputs": [],
   "source": [
    "# 4.  Write a command to create a 1x10 matrix filled with normally distributed random numbers.  \n",
    "#Assign the result to b.\n",
    "\n",
    "# hint: check out numpy random command randn\n",
    "\n"
   ]
  },
  {
   "cell_type": "code",
   "execution_count": 6,
   "metadata": {
    "collapsed": false
   },
   "outputs": [],
   "source": [
    "# There are many numpy  functions which report different properties of the array.  Very useful.\n",
    "\n",
    "# size gives the total number of elements of the array\n",
    "# shape gives the number of rows and columns \n",
    "# mean gives the mean value of the numbers stored in the array\n",
    "# std gives the standard deviation of the numbers stored in the array\n",
    "# sum adds the numbers in the array\n",
    "# amin finds the smallest value, argmin the index\n",
    "# amax finds the largest value, argmax the index\n",
    "\n",
    "# Write commands and evaluate to calculate each of the above quantities for\n",
    "# your random matrix, b.\n",
    "\n",
    "# Bonus:  Find both the largest and smallest values and their corresponding positions in the\n",
    "# array (index).\n",
    "\n",
    "\n"
   ]
  },
  {
   "cell_type": "code",
   "execution_count": 8,
   "metadata": {
    "collapsed": false
   },
   "outputs": [
    {
     "data": {
      "text/plain": [
       "1.2910306498782076"
      ]
     },
     "execution_count": 8,
     "metadata": {},
     "output_type": "execute_result"
    }
   ],
   "source": [
    "# Indexing (or slicing as Software Carpentry calls it) allows us to specify which part of\n",
    "# the array we want to isolate by referring to those elements in\n",
    "# square brackets [] after the variable name.  For example, to see the value in\n",
    "# the first row and first column of b we would evaluate:\n",
    "# Use this for b:\n",
    "\n",
    "b=np.random.randn(4,4);\n",
    "\n",
    "b[0,0]\n",
    "\n",
    "# Write a command to add the elements of b which are on the diagonal of the\n",
    "# matrix.  Hint:  The diagonal refers to the elements for which the row and\n",
    "# column numeber are equal.  b[0,0] is the first element on the diagonal of\n",
    "# b.\n",
    "\n"
   ]
  },
  {
   "cell_type": "code",
   "execution_count": 19,
   "metadata": {
    "collapsed": false
   },
   "outputs": [
    {
     "name": "stdout",
     "output_type": "stream",
     "text": [
      "[[ 0.34124379  0.0967945  -0.77234963  1.37936597  0.87152401 -0.42373614\n",
      "  -0.4773316  -0.54545504 -1.01333988 -0.24282962]]\n",
      "[]\n",
      "[]\n"
     ]
    }
   ],
   "source": [
    "# 6. Apply basic indexing to isolate the first 3 rows and\n",
    "# first 3 columns of your matrix b.  Assign the result to a new variable\n",
    "# called c.\n",
    "\n",
    "\n",
    "\n",
    "# 7. Overwrite variable c.  This time store the last 3 rows and columns of b.\n",
    "\n"
   ]
  },
  {
   "cell_type": "code",
   "execution_count": 9,
   "metadata": {
    "collapsed": false
   },
   "outputs": [],
   "source": [
    "# 8.  We also introduced logical indexing.  This indexing method allows us\n",
    "# to isolate those elements of a matrix which satisfy a certain condition.\n",
    "# An intensity threhold applied to an image is an example.  It gives you\n",
    "# all the pixels which are above the threhold.\n",
    "\n",
    "# Let's try exactly this application.\n",
    "\n",
    "# matplotlib has a command called imread.\n",
    "# Use imread to read in the data in the file cell1.tif, assign the result\n",
    "# to a variable named dat.\n",
    "\n",
    "\n",
    "#Use matplotlib imshow to display the image\n",
    "\n",
    "\n",
    "# logically index dat to find those pixels which are greater than 200.\n",
    "# Assign the rsult to a variable called th.\n",
    "\n",
    "# Use matplotlib imshow to display the image \n",
    "\n"
   ]
  },
  {
   "cell_type": "code",
   "execution_count": 11,
   "metadata": {
    "collapsed": false
   },
   "outputs": [],
   "source": [
    "#We spent some time on strings in the context of filenames.\n",
    "\n",
    "#store 'cell1.tif' in a string variable called myfile.  Use matplotlib imread to read it in and store it in a \n",
    "#variable called c1 and then imshow to display.\n",
    "\n"
   ]
  },
  {
   "cell_type": "code",
   "execution_count": 12,
   "metadata": {
    "collapsed": false
   },
   "outputs": [
    {
     "name": "stdout",
     "output_type": "stream",
     "text": [
      "cell1.tif\n"
     ]
    }
   ],
   "source": [
    "# Use the + operator in strings concantenates (joins) them.  So we can make new file names by joining bits of strings\n",
    "# together. For example:\n",
    "\n",
    "myfile='cell'+str(1)+'.tif'\n",
    "print(myfile)\n",
    "\n",
    "# recall the str function which converts the number 1 to the\n",
    "# string '1' for us.\n",
    "\n",
    "# This lends itself to the quick generation of filenames using loops\n",
    "# which can be a easy way to read in your data.\n",
    "\n",
    "# 9. Write a loop to automatically generate the filenames of cell1.tif\n",
    "# through cell3.tif.\n",
    "\n",
    "\n",
    "\n",
    "# Bonus: read each image in and store in 1 plane of a 3d matrix.  where\n",
    "# the dimensions represent x y pixels and cell number.  Call your matrix\n",
    "# cells and initalize it to all elements equal to zero when you create it.\n",
    "# (with zeros).  Use shape to find the size of the image and to help you\n",
    "# when creating the array cells.\n",
    "\n",
    "\n",
    "    \n",
    "\n"
   ]
  },
  {
   "cell_type": "code",
   "execution_count": 14,
   "metadata": {
    "collapsed": false
   },
   "outputs": [],
   "source": [
    "# 10.  Add commands to your loop to display the image as it is read in.  Title\n",
    "# each figure with the filename.\n",
    "\n",
    "\n"
   ]
  },
  {
   "cell_type": "code",
   "execution_count": null,
   "metadata": {
    "collapsed": true
   },
   "outputs": [],
   "source": []
  }
 ],
 "metadata": {
  "anaconda-cloud": {},
  "kernelspec": {
   "display_name": "Python [Root]",
   "language": "python",
   "name": "Python [Root]"
  },
  "language_info": {
   "codemirror_mode": {
    "name": "ipython",
    "version": 3
   },
   "file_extension": ".py",
   "mimetype": "text/x-python",
   "name": "python",
   "nbconvert_exporter": "python",
   "pygments_lexer": "ipython3",
   "version": "3.5.2"
  }
 },
 "nbformat": 4,
 "nbformat_minor": 0
}
